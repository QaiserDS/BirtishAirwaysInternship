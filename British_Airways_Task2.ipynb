{
 "cells": [
  {
   "cell_type": "markdown",
   "metadata": {
    "id": "_prEVJqDc8yH"
   },
   "source": [
    "# Task 2 - Predict customer buying behaviour"
   ]
  },
  {
   "cell_type": "code",
   "execution_count": 1,
   "metadata": {
    "id": "UOXjfMLc04tD"
   },
   "outputs": [
    {
     "name": "stderr",
     "output_type": "stream",
     "text": [
      "C:\\Users\\qaise\\Anaconda3\\lib\\site-packages\\pandas\\core\\computation\\expressions.py:20: UserWarning: Pandas requires version '2.7.3' or newer of 'numexpr' (version '2.7.1' currently installed).\n",
      "  from pandas.core.computation.check import NUMEXPR_INSTALLED\n"
     ]
    }
   ],
   "source": [
    "%matplotlib inline\n",
    "\n",
    "import pandas as pd\n",
    "import numpy as np\n",
    "import matplotlib.pyplot as plt\n",
    "import seaborn as sns\n",
    "\n",
    "import warnings\n",
    "warnings.filterwarnings(\"ignore\")"
   ]
  },
  {
   "cell_type": "code",
   "execution_count": 2,
   "metadata": {
    "id": "RzQ7IcNFNeH0"
   },
   "outputs": [],
   "source": [
    "data= 'customer_booking.csv'\n"
   ]
  },
  {
   "cell_type": "code",
   "execution_count": 3,
   "metadata": {
    "colab": {
     "base_uri": "https://localhost:8080/"
    },
    "id": "eaOUJcHQOhDe",
    "outputId": "5066c5a9-f03e-410a-ae57-3cc54076189f"
   },
   "outputs": [
    {
     "name": "stdout",
     "output_type": "stream",
     "text": [
      "{'encoding': 'ISO-8859-1', 'confidence': 0.73, 'language': ''}\n"
     ]
    }
   ],
   "source": [
    "import chardet\n",
    "\n",
    "with open('customer_booking.csv', 'rb') as rawdata:\n",
    "  result = chardet.detect(rawdata.read(100000))\n",
    "\n",
    "print(result)"
   ]
  },
  {
   "cell_type": "code",
   "execution_count": 4,
   "metadata": {
    "id": "XPoUFUywNNIV"
   },
   "outputs": [],
   "source": [
    "df= pd.read_csv(data, encoding='ISO-8859-1')"
   ]
  },
  {
   "cell_type": "code",
   "execution_count": 5,
   "metadata": {
    "colab": {
     "base_uri": "https://localhost:8080/",
     "height": 270
    },
    "id": "cFOVMUO9NfwF",
    "outputId": "b1d2e810-dfba-4ccc-a453-411f95954268"
   },
   "outputs": [
    {
     "data": {
      "text/html": [
       "<div>\n",
       "<style scoped>\n",
       "    .dataframe tbody tr th:only-of-type {\n",
       "        vertical-align: middle;\n",
       "    }\n",
       "\n",
       "    .dataframe tbody tr th {\n",
       "        vertical-align: top;\n",
       "    }\n",
       "\n",
       "    .dataframe thead th {\n",
       "        text-align: right;\n",
       "    }\n",
       "</style>\n",
       "<table border=\"1\" class=\"dataframe\">\n",
       "  <thead>\n",
       "    <tr style=\"text-align: right;\">\n",
       "      <th></th>\n",
       "      <th>num_passengers</th>\n",
       "      <th>sales_channel</th>\n",
       "      <th>trip_type</th>\n",
       "      <th>purchase_lead</th>\n",
       "      <th>length_of_stay</th>\n",
       "      <th>flight_hour</th>\n",
       "      <th>flight_day</th>\n",
       "      <th>route</th>\n",
       "      <th>booking_origin</th>\n",
       "      <th>wants_extra_baggage</th>\n",
       "      <th>wants_preferred_seat</th>\n",
       "      <th>wants_in_flight_meals</th>\n",
       "      <th>flight_duration</th>\n",
       "      <th>booking_complete</th>\n",
       "    </tr>\n",
       "  </thead>\n",
       "  <tbody>\n",
       "    <tr>\n",
       "      <th>0</th>\n",
       "      <td>2</td>\n",
       "      <td>Internet</td>\n",
       "      <td>RoundTrip</td>\n",
       "      <td>262</td>\n",
       "      <td>19</td>\n",
       "      <td>7</td>\n",
       "      <td>Sat</td>\n",
       "      <td>AKLDEL</td>\n",
       "      <td>New Zealand</td>\n",
       "      <td>1</td>\n",
       "      <td>0</td>\n",
       "      <td>0</td>\n",
       "      <td>5.52</td>\n",
       "      <td>0</td>\n",
       "    </tr>\n",
       "    <tr>\n",
       "      <th>1</th>\n",
       "      <td>1</td>\n",
       "      <td>Internet</td>\n",
       "      <td>RoundTrip</td>\n",
       "      <td>112</td>\n",
       "      <td>20</td>\n",
       "      <td>3</td>\n",
       "      <td>Sat</td>\n",
       "      <td>AKLDEL</td>\n",
       "      <td>New Zealand</td>\n",
       "      <td>0</td>\n",
       "      <td>0</td>\n",
       "      <td>0</td>\n",
       "      <td>5.52</td>\n",
       "      <td>0</td>\n",
       "    </tr>\n",
       "    <tr>\n",
       "      <th>2</th>\n",
       "      <td>2</td>\n",
       "      <td>Internet</td>\n",
       "      <td>RoundTrip</td>\n",
       "      <td>243</td>\n",
       "      <td>22</td>\n",
       "      <td>17</td>\n",
       "      <td>Wed</td>\n",
       "      <td>AKLDEL</td>\n",
       "      <td>India</td>\n",
       "      <td>1</td>\n",
       "      <td>1</td>\n",
       "      <td>0</td>\n",
       "      <td>5.52</td>\n",
       "      <td>0</td>\n",
       "    </tr>\n",
       "    <tr>\n",
       "      <th>3</th>\n",
       "      <td>1</td>\n",
       "      <td>Internet</td>\n",
       "      <td>RoundTrip</td>\n",
       "      <td>96</td>\n",
       "      <td>31</td>\n",
       "      <td>4</td>\n",
       "      <td>Sat</td>\n",
       "      <td>AKLDEL</td>\n",
       "      <td>New Zealand</td>\n",
       "      <td>0</td>\n",
       "      <td>0</td>\n",
       "      <td>1</td>\n",
       "      <td>5.52</td>\n",
       "      <td>0</td>\n",
       "    </tr>\n",
       "    <tr>\n",
       "      <th>4</th>\n",
       "      <td>2</td>\n",
       "      <td>Internet</td>\n",
       "      <td>RoundTrip</td>\n",
       "      <td>68</td>\n",
       "      <td>22</td>\n",
       "      <td>15</td>\n",
       "      <td>Wed</td>\n",
       "      <td>AKLDEL</td>\n",
       "      <td>India</td>\n",
       "      <td>1</td>\n",
       "      <td>0</td>\n",
       "      <td>1</td>\n",
       "      <td>5.52</td>\n",
       "      <td>0</td>\n",
       "    </tr>\n",
       "  </tbody>\n",
       "</table>\n",
       "</div>"
      ],
      "text/plain": [
       "   num_passengers sales_channel  trip_type  purchase_lead  length_of_stay  \\\n",
       "0               2      Internet  RoundTrip            262              19   \n",
       "1               1      Internet  RoundTrip            112              20   \n",
       "2               2      Internet  RoundTrip            243              22   \n",
       "3               1      Internet  RoundTrip             96              31   \n",
       "4               2      Internet  RoundTrip             68              22   \n",
       "\n",
       "   flight_hour flight_day   route booking_origin  wants_extra_baggage  \\\n",
       "0            7        Sat  AKLDEL    New Zealand                    1   \n",
       "1            3        Sat  AKLDEL    New Zealand                    0   \n",
       "2           17        Wed  AKLDEL          India                    1   \n",
       "3            4        Sat  AKLDEL    New Zealand                    0   \n",
       "4           15        Wed  AKLDEL          India                    1   \n",
       "\n",
       "   wants_preferred_seat  wants_in_flight_meals  flight_duration  \\\n",
       "0                     0                      0             5.52   \n",
       "1                     0                      0             5.52   \n",
       "2                     1                      0             5.52   \n",
       "3                     0                      1             5.52   \n",
       "4                     0                      1             5.52   \n",
       "\n",
       "   booking_complete  \n",
       "0                 0  \n",
       "1                 0  \n",
       "2                 0  \n",
       "3                 0  \n",
       "4                 0  "
      ]
     },
     "execution_count": 5,
     "metadata": {},
     "output_type": "execute_result"
    }
   ],
   "source": [
    "df.head()"
   ]
  },
  {
   "cell_type": "markdown",
   "metadata": {
    "id": "t2gjofW4PSfW"
   },
   "source": [
    "# Exploratory Data Analysis"
   ]
  },
  {
   "cell_type": "code",
   "execution_count": 6,
   "metadata": {
    "colab": {
     "base_uri": "https://localhost:8080/"
    },
    "id": "TM3bYzjJPYgm",
    "outputId": "75d6904c-a91e-40f8-c44a-e8d804c48c16"
   },
   "outputs": [
    {
     "data": {
      "text/plain": [
       "num_passengers             int64\n",
       "sales_channel             object\n",
       "trip_type                 object\n",
       "purchase_lead              int64\n",
       "length_of_stay             int64\n",
       "flight_hour                int64\n",
       "flight_day                object\n",
       "route                     object\n",
       "booking_origin            object\n",
       "wants_extra_baggage        int64\n",
       "wants_preferred_seat       int64\n",
       "wants_in_flight_meals      int64\n",
       "flight_duration          float64\n",
       "booking_complete           int64\n",
       "dtype: object"
      ]
     },
     "execution_count": 6,
     "metadata": {},
     "output_type": "execute_result"
    }
   ],
   "source": [
    "#checking for datatypes\n",
    "\n",
    "df.dtypes"
   ]
  },
  {
   "cell_type": "code",
   "execution_count": 7,
   "metadata": {
    "colab": {
     "base_uri": "https://localhost:8080/"
    },
    "id": "TitPzv6sPhcs",
    "outputId": "16aeb6ac-2bdd-4e50-d93e-97fc9992b086"
   },
   "outputs": [
    {
     "data": {
      "text/plain": [
       "(50000, 14)"
      ]
     },
     "execution_count": 7,
     "metadata": {},
     "output_type": "execute_result"
    }
   ],
   "source": [
    "df.shape"
   ]
  },
  {
   "cell_type": "code",
   "execution_count": 8,
   "metadata": {
    "colab": {
     "base_uri": "https://localhost:8080/"
    },
    "id": "i6XYDIpNPflG",
    "outputId": "07415245-46fc-4f1c-a7f7-1bb98b5d6b27"
   },
   "outputs": [
    {
     "data": {
      "text/plain": [
       "num_passengers           0\n",
       "sales_channel            0\n",
       "trip_type                0\n",
       "purchase_lead            0\n",
       "length_of_stay           0\n",
       "flight_hour              0\n",
       "flight_day               0\n",
       "route                    0\n",
       "booking_origin           0\n",
       "wants_extra_baggage      0\n",
       "wants_preferred_seat     0\n",
       "wants_in_flight_meals    0\n",
       "flight_duration          0\n",
       "booking_complete         0\n",
       "dtype: int64"
      ]
     },
     "execution_count": 8,
     "metadata": {},
     "output_type": "execute_result"
    }
   ],
   "source": [
    "#null values\n",
    "\n",
    "df.isnull().sum()\n",
    "\n",
    "#there is no null values"
   ]
  },
  {
   "cell_type": "code",
   "execution_count": 9,
   "metadata": {
    "colab": {
     "base_uri": "https://localhost:8080/"
    },
    "id": "ma007WpIP3U-",
    "outputId": "1670dc55-020c-412b-fa01-6da44ee96b81"
   },
   "outputs": [
    {
     "data": {
      "text/plain": [
       "0    42522\n",
       "1     7478\n",
       "Name: booking_complete, dtype: int64"
      ]
     },
     "execution_count": 9,
     "metadata": {},
     "output_type": "execute_result"
    }
   ],
   "source": [
    "df.booking_complete.value_counts()"
   ]
  },
  {
   "cell_type": "markdown",
   "metadata": {
    "id": "kO58us30PxJk"
   },
   "source": [
    "# Mutual Information"
   ]
  },
  {
   "cell_type": "code",
   "execution_count": 10,
   "metadata": {
    "id": "xAVmW976UzgN"
   },
   "outputs": [],
   "source": [
    "X= df.drop('booking_complete',axis=1)\n",
    "y= df.booking_complete         \n",
    "\n",
    "#changing object dtype to int dtype\n",
    "for colname in X.select_dtypes(\"object\"):\n",
    "    X[colname], _ = X[colname].factorize()"
   ]
  },
  {
   "cell_type": "code",
   "execution_count": 11,
   "metadata": {
    "colab": {
     "base_uri": "https://localhost:8080/"
    },
    "id": "GLbLIRnYVFMe",
    "outputId": "c934b465-9dc6-4141-c6c4-a68c9f7f77fa"
   },
   "outputs": [
    {
     "data": {
      "text/plain": [
       "num_passengers             int64\n",
       "sales_channel              int64\n",
       "trip_type                  int64\n",
       "purchase_lead              int64\n",
       "length_of_stay             int64\n",
       "flight_hour                int64\n",
       "flight_day                 int64\n",
       "route                      int64\n",
       "booking_origin             int64\n",
       "wants_extra_baggage        int64\n",
       "wants_preferred_seat       int64\n",
       "wants_in_flight_meals      int64\n",
       "flight_duration          float64\n",
       "dtype: object"
      ]
     },
     "execution_count": 11,
     "metadata": {},
     "output_type": "execute_result"
    }
   ],
   "source": [
    "X.dtypes"
   ]
  },
  {
   "cell_type": "code",
   "execution_count": 12,
   "metadata": {
    "colab": {
     "base_uri": "https://localhost:8080/"
    },
    "id": "C_sax3VTP0qN",
    "outputId": "c165558f-1691-4f03-eb01-d481499740db"
   },
   "outputs": [
    {
     "data": {
      "text/plain": [
       "route                    0.055174\n",
       "booking_origin           0.048823\n",
       "flight_duration          0.016779\n",
       "wants_extra_baggage      0.010217\n",
       "length_of_stay           0.009270\n",
       "purchase_lead            0.002534\n",
       "wants_preferred_seat     0.002283\n",
       "flight_hour              0.002120\n",
       "sales_channel            0.001926\n",
       "flight_day               0.001359\n",
       "num_passengers           0.000908\n",
       "trip_type                0.000368\n",
       "wants_in_flight_meals    0.000000\n",
       "Name: MI Scores, dtype: float64"
      ]
     },
     "execution_count": 12,
     "metadata": {},
     "output_type": "execute_result"
    }
   ],
   "source": [
    "from sklearn.feature_selection import mutual_info_classif\n",
    "\n",
    "mi_scores = mutual_info_classif(X, y)\n",
    "mi_scores = pd.Series(mi_scores, name=\"MI Scores\", index=X.columns)\n",
    "mi_scores = mi_scores.sort_values(ascending=False)\n",
    "\n",
    "mi_scores # show a few features with their MI scores"
   ]
  },
  {
   "cell_type": "code",
   "execution_count": 13,
   "metadata": {
    "colab": {
     "base_uri": "https://localhost:8080/",
     "height": 460
    },
    "id": "52zW510SVhxM",
    "outputId": "67558676-5307-48a1-e701-5a0fefd0e123"
   },
   "outputs": [
    {
     "data": {
      "image/png": "[encoded data removed]",
      "text/plain": [
       "<Figure size 800x500 with 1 Axes>"
      ]
     },
     "metadata": {
      "needs_background": "light"
     },
     "output_type": "display_data"
    }
   ],
   "source": [
    "def plot_mi_scores(scores):\n",
    "    scores = scores.sort_values(ascending=True)\n",
    "    width = np.arange(len(scores))\n",
    "    ticks = list(scores.index)\n",
    "    plt.barh(width, scores)\n",
    "    plt.yticks(width, ticks)\n",
    "    plt.title(\"Mutual Information Scores\")\n",
    "\n",
    "\n",
    "plt.figure(dpi=100, figsize=(8, 5))\n",
    "plot_mi_scores(mi_scores)"
   ]
  },
  {
   "cell_type": "markdown",
   "metadata": {
    "id": "GoizpwewVoju"
   },
   "source": [
    "We can see\n",
    "\n",
    "1.   route \n",
    "2.   booking_origin\n",
    "3.   flight_duration          \n",
    "4.   wants_extra_baggage      \n",
    "5.   length_of_stay          \n",
    "\n",
    " are the top 5 features which are dependant with booking_complete feature"
   ]
  },
  {
   "cell_type": "code",
   "execution_count": 14,
   "metadata": {
    "id": "Losgj--AWuoc"
   },
   "outputs": [],
   "source": [
    "#test train split\n",
    "\n",
    "from sklearn.model_selection import train_test_split\n",
    "\n",
    "# dataset split\n",
    "# creating a function for dataset split\n",
    "def dataset(X,y):\n",
    "    train_full_X, val_X, train_full_y, val_y = train_test_split(X, y,test_size=0.2,random_state = 0)\n",
    "\n",
    "# Use the same function above for the validation set\n",
    "    train_X, test_X, train_y, test_y = train_test_split(train_full_X, train_full_y, test_size=0.25,random_state = 0)\n",
    "    return (train_X, val_X, train_y, val_y)"
   ]
  },
  {
   "cell_type": "code",
   "execution_count": 15,
   "metadata": {
    "id": "q7nI9Tr9W1IU"
   },
   "outputs": [],
   "source": [
    "from sklearn.preprocessing import MinMaxScaler\n",
    "\n",
    "def scale(X):\n",
    "    scaler = MinMaxScaler()\n",
    "    scaler.fit(X)\n",
    "    return X"
   ]
  },
  {
   "cell_type": "markdown",
   "metadata": {
    "id": "8d7Oq8N6W8Lc"
   },
   "source": [
    "# Model 1 : Random forest classifier with top 6 features"
   ]
  },
  {
   "cell_type": "code",
   "execution_count": 16,
   "metadata": {
    "colab": {
     "base_uri": "https://localhost:8080/"
    },
    "id": "qu8qczXoXUj7",
    "outputId": "2d640c57-5c28-42f1-859e-52c7679226d0"
   },
   "outputs": [
    {
     "name": "stdout",
     "output_type": "stream",
     "text": [
      "ACCURACY:  83.36\n",
      "AUC score:  0.5657818407546988\n"
     ]
    }
   ],
   "source": [
    "from sklearn.metrics import roc_auc_score\n",
    "from sklearn.metrics import accuracy_score\n",
    "from sklearn.ensemble import RandomForestClassifier\n",
    "\n",
    "\n",
    "\n",
    "#assigning the features under a list\n",
    "\n",
    "features=['route','booking_origin','flight_duration','wants_extra_baggage', 'length_of_stay','num_passengers']\n",
    "X= df[features]\n",
    "#one hot encoding\n",
    "X = pd.get_dummies(X, columns=features)\n",
    "X= scale(X)\n",
    "y= df.booking_complete       \n",
    "\n",
    "X_train,X_val,y_train,y_val= dataset(X,y)\n",
    "\n",
    "forest_model= RandomForestClassifier(random_state=1)\n",
    "forest_model.fit(X_train, y_train)\n",
    "preds= forest_model.predict(X_val)\n",
    "\n",
    "print('ACCURACY: ',accuracy_score(y_val,preds)*100)\n",
    "print('AUC score: ',roc_auc_score(y_val,preds))"
   ]
  },
  {
   "cell_type": "markdown",
   "metadata": {
    "id": "LefYDSU_XGZ8"
   },
   "source": [
    "# Model 2 : Random forest classifier with all features"
   ]
  },
  {
   "cell_type": "code",
   "execution_count": 17,
   "metadata": {
    "colab": {
     "base_uri": "https://localhost:8080/"
    },
    "id": "FRQuEttcYuNM",
    "outputId": "7971b91b-f5e9-429c-e3d2-ef20ebc41daa"
   },
   "outputs": [
    {
     "name": "stdout",
     "output_type": "stream",
     "text": [
      "ACCURACY:  84.76\n",
      "AUC score:  0.5479604084813514\n"
     ]
    }
   ],
   "source": [
    "X= df.drop('booking_complete',axis=1)\n",
    "#one hot encoding\n",
    "X = pd.get_dummies(X)\n",
    "X= scale(X)\n",
    "y= df.booking_complete       \n",
    "\n",
    "X_train,X_val,y_train,y_val= dataset(X,y)\n",
    "\n",
    "forest_model= RandomForestClassifier(random_state=1)\n",
    "forest_model.fit(X_train, y_train)\n",
    "preds= forest_model.predict(X_val)\n",
    "\n",
    "print('ACCURACY: ',accuracy_score(y_val,preds)*100)\n",
    "print('AUC score: ',roc_auc_score(y_val,preds))"
   ]
  },
  {
   "cell_type": "markdown",
   "metadata": {
    "id": "xbatS3WXXKFm"
   },
   "source": [
    "# Model 3 : XGB classifier with top 6 features"
   ]
  },
  {
   "cell_type": "code",
   "execution_count": 18,
   "metadata": {
    "colab": {
     "base_uri": "https://localhost:8080/"
    },
    "id": "Mpfm2eO3ZSvb",
    "outputId": "5914107b-6b07-4064-9720-8fa6c7a2c652"
   },
   "outputs": [
    {
     "name": "stdout",
     "output_type": "stream",
     "text": [
      "ACCURACY:  84.78999999999999\n",
      "AUC score:  0.5231540310747802\n"
     ]
    }
   ],
   "source": [
    "from xgboost import XGBClassifier\n",
    "\n",
    "X= df[features]\n",
    "\n",
    "#one hot encoding\n",
    "X = pd.get_dummies(X, columns=features)\n",
    "X= scale(X)\n",
    "\n",
    "y= df.booking_complete    \n",
    "\n",
    "X_train,X_val,y_train,y_val= dataset(X,y)\n",
    "xgb_model = XGBClassifier()\n",
    "\n",
    "xgb_model.fit(X_train, y_train)\n",
    "prediction_xgb = xgb_model.predict(X_val)\n",
    "print('ACCURACY: ',accuracy_score(y_val, prediction_xgb)*100)\n",
    "print('AUC score: ',roc_auc_score(y_val,prediction_xgb))"
   ]
  },
  {
   "cell_type": "markdown",
   "metadata": {
    "id": "n5b68yEWXO4b"
   },
   "source": [
    "# Model 4 : XGB classifier with all features"
   ]
  },
  {
   "cell_type": "code",
   "execution_count": 19,
   "metadata": {
    "colab": {
     "base_uri": "https://localhost:8080/"
    },
    "id": "UsVzf8iAZR0c",
    "outputId": "d7442c87-b782-4c03-c588-b8f2ac97b5ed"
   },
   "outputs": [
    {
     "name": "stdout",
     "output_type": "stream",
     "text": [
      "ACCURACY:  84.96000000000001\n",
      "AUC score:  0.5431644571912829\n"
     ]
    }
   ],
   "source": [
    "X= df.drop('booking_complete',axis=1)\n",
    "#one hot encoding\n",
    "X = pd.get_dummies(X)\n",
    "X= scale(X)\n",
    "y= df.booking_complete \n",
    "\n",
    "X_train,X_val,y_train,y_val= dataset(X,y)\n",
    "\n",
    "\n",
    "xgb_model = XGBClassifier()\n",
    "xgb_model.fit(X_train, y_train)\n",
    "prediction_xgb = xgb_model.predict(X_val)\n",
    "print('ACCURACY: ',accuracy_score(y_val, prediction_xgb)*100)\n",
    "print('AUC score: ',roc_auc_score(y_val,prediction_xgb))"
   ]
  },
  {
   "cell_type": "markdown",
   "metadata": {
    "id": "TtPr9DwFqpwo"
   },
   "source": [
    "Finalizing random forest model with all features as final model, as it has goos accuracy and higher auc score compared to other models\n",
    "\n",
    "Validating with test data set"
   ]
  },
  {
   "cell_type": "code",
   "execution_count": 20,
   "metadata": {
    "colab": {
     "base_uri": "https://localhost:8080/"
    },
    "id": "LECxTwU1ql6o",
    "outputId": "5b8a01ec-cff1-4b55-c865-4ffb7ed6ea8e"
   },
   "outputs": [
    {
     "name": "stdout",
     "output_type": "stream",
     "text": [
      "ACCURACY:  85.09\n",
      "AUC score:  0.5577796717361984\n"
     ]
    }
   ],
   "source": [
    "X= df.drop('booking_complete',axis=1)\n",
    "#one hot encoding\n",
    "X = pd.get_dummies(X)\n",
    "X= scale(X)\n",
    "y= df.booking_complete       \n",
    "\n",
    "train_full_X,test_X, train_full_y, test_y = train_test_split(X, y,test_size=0.2,random_state = 0)\n",
    "\n",
    "forest_model= RandomForestClassifier(random_state=1)\n",
    "forest_model.fit(train_full_X, train_full_y)\n",
    "preds= forest_model.predict(test_X)\n",
    "\n",
    "print('ACCURACY: ',accuracy_score(test_y,preds)*100)\n",
    "print('AUC score: ',roc_auc_score(test_y,preds))"
   ]
  },
  {
   "cell_type": "code",
   "execution_count": null,
   "metadata": {},
   "outputs": [],
   "source": []
  }
 ],
 "metadata": {
  "colab": {
   "authorship_tag": "ABX9TyPe7oeddpcwN3LWCXQGZrjX",
   "include_colab_link": true,
   "provenance": []
  },
  "kernelspec": {
   "display_name": "Python 3",
   "language": "python",
   "name": "python3"
  },
  "language_info": {
   "codemirror_mode": {
    "name": "ipython",
    "version": 3
   },
   "file_extension": ".py",
   "mimetype": "text/x-python",
   "name": "python",
   "nbconvert_exporter": "python",
   "pygments_lexer": "ipython3",
   "version": "3.8.3"
  }
 },
 "nbformat": 4,
 "nbformat_minor": 1
}
